{
  "nbformat": 4,
  "nbformat_minor": 0,
  "metadata": {
    "colab": {
      "provenance": [],
      "authorship_tag": "ABX9TyM+84yoGlw5D8JiVzBLhnwY",
      "include_colab_link": true
    },
    "kernelspec": {
      "name": "python3",
      "display_name": "Python 3"
    },
    "language_info": {
      "name": "python"
    }
  },
  "cells": [
    {
      "cell_type": "markdown",
      "metadata": {
        "id": "view-in-github",
        "colab_type": "text"
      },
      "source": [
        "<a href=\"https://colab.research.google.com/github/Ptttt001/RC-material/blob/main/%E7%8C%9C%E6%95%B8%E5%AD%97.ipynb\" target=\"_parent\"><img src=\"https://colab.research.google.com/assets/colab-badge.svg\" alt=\"Open In Colab\"/></a>"
      ]
    },
    {
      "cell_type": "code",
      "execution_count": null,
      "metadata": {
        "colab": {
          "base_uri": "https://localhost:8080/"
        },
        "id": "yVTMgbm8_pgo",
        "outputId": "e85453d4-3e31-44ba-a648-14bd001c9de7"
      },
      "outputs": [
        {
          "output_type": "stream",
          "name": "stdout",
          "text": [
            "Welcome to the 猜數字 (Guess the Number) game!\n",
            "Try to guess the 4-digit number.\n",
            "Enter your guess: 1234\n",
            "1A1B\n",
            "Enter your guess: 5678\n",
            "0A1B\n",
            "Enter your guess: 6579\n",
            "0A0B\n",
            "Enter your guess: 1280\n",
            "1A1B\n",
            "Enter your guess: 3408\n",
            "1A3B\n",
            "Enter your guess: 4308\n",
            "0A4B\n",
            "Enter your guess: 4083\n",
            "0A4B\n",
            "Enter your guess: 3408\n",
            "1A3B\n",
            "Enter your guess: 8430\n",
            "4A0B\n",
            "Congratulations! You guessed the number 8430 in 9 attempts.\n"
          ]
        }
      ],
      "source": [
        "import random\n",
        "\n",
        "def generate_random_number(length):\n",
        "    return ''.join(random.sample('0123456789', length))\n",
        "\n",
        "def compare_numbers(secret_number, guess):\n",
        "    a = 0  # Number of exact matches\n",
        "    b = 0  # Number of digit matches\n",
        "\n",
        "    for i in range(len(secret_number)):\n",
        "        if secret_number[i] == guess[i]:\n",
        "            a += 1\n",
        "        elif secret_number[i] in guess:\n",
        "            b += 1\n",
        "\n",
        "    return a, b\n",
        "\n",
        "def main():\n",
        "    length = 4  # You can change this to adjust the length of the number\n",
        "    secret_number = generate_random_number(length)\n",
        "    attempts = 0\n",
        "\n",
        "    print(\"Welcome to the 猜數字 (Guess the Number) game!\")\n",
        "    print(f\"Try to guess the {length}-digit number.\")\n",
        "\n",
        "    while True:\n",
        "        guess = input(\"Enter your guess: \")\n",
        "        attempts += 1\n",
        "\n",
        "        if len(guess) != length or not guess.isdigit():\n",
        "            print(\"Please enter a valid\", length, \"-digit number.\")\n",
        "            continue\n",
        "\n",
        "        a, b = compare_numbers(secret_number, guess)\n",
        "\n",
        "        print(f\"{a}A{b}B\")\n",
        "\n",
        "        if a == length:\n",
        "            print(\"Congratulations! You guessed the number\", secret_number, \"in\", attempts, \"attempts.\")\n",
        "            break\n",
        "\n",
        "if __name__ == \"__main__\":\n",
        "    main()"
      ]
    },
    {
      "cell_type": "code",
      "source": [
        "print(\"Please think of a number between 0 and 100!\")\n",
        "print(\"Is your secret number 50?\")\n",
        "print(\"Enter 'h' to indicate the guess is too high. Enter 'l' to indicate the guess is too low. Enter 'c' to indicate I guessed correctly.\")\n",
        "min=0\n",
        "i=50\n",
        "max=100\n",
        "while 1:#無限迴圈\n",
        "    x=str(input())\n",
        "    if x==\"c\":#數字正確\n",
        "        print(\"Game over. Your secret number was: \",i)\n",
        "        break;#停止迴圈\n",
        "    elif x==\"l\":#數字太大\n",
        "        min=i#變更最小值\n",
        "        i=(i+max)//2\n",
        "        print(\"Is your secret number\",i,\"?\")\n",
        "        print(\"Enter 'h' to indicate the guess is too high. Enter 'l' to indicate the guess is too low. Enter 'c' to indicate I guessed correctly.\")\n",
        "    else:#數字太小\n",
        "        max=i#變更最大值\n",
        "        i=(i+min)//2\n",
        "        print(\"Is your secret number\",i,\"?\")\n",
        "        print(\"Enter 'h' to indicate the guess is too high. Enter 'l' to indicate the guess is too low. Enter 'c' to indicate I guessed correctly.\")\n"
      ],
      "metadata": {
        "colab": {
          "base_uri": "https://localhost:8080/"
        },
        "id": "V3ngL20nR9UY",
        "outputId": "bc729333-dedf-4118-d125-e02d8e2b697f"
      },
      "execution_count": null,
      "outputs": [
        {
          "output_type": "stream",
          "name": "stdout",
          "text": [
            "Please think of a number between 0 and 100!\n",
            "Is your secret number 50?\n",
            "Enter 'h' to indicate the guess is too high. Enter 'l' to indicate the guess is too low. Enter 'c' to indicate I guessed correctly.\n",
            "l\n",
            "Is your secret number 75 ?\n",
            "Enter 'h' to indicate the guess is too high. Enter 'l' to indicate the guess is too low. Enter 'c' to indicate I guessed correctly.\n",
            "l\n",
            "Is your secret number 87 ?\n",
            "Enter 'h' to indicate the guess is too high. Enter 'l' to indicate the guess is too low. Enter 'c' to indicate I guessed correctly.\n",
            "h\n",
            "Is your secret number 81 ?\n",
            "Enter 'h' to indicate the guess is too high. Enter 'l' to indicate the guess is too low. Enter 'c' to indicate I guessed correctly.\n",
            "h\n",
            "Is your secret number 78 ?\n",
            "Enter 'h' to indicate the guess is too high. Enter 'l' to indicate the guess is too low. Enter 'c' to indicate I guessed correctly.\n",
            "h\n",
            "Is your secret number 76 ?\n",
            "Enter 'h' to indicate the guess is too high. Enter 'l' to indicate the guess is too low. Enter 'c' to indicate I guessed correctly.\n",
            "l\n",
            "Is your secret number 77 ?\n",
            "Enter 'h' to indicate the guess is too high. Enter 'l' to indicate the guess is too low. Enter 'c' to indicate I guessed correctly.\n",
            "c\n",
            "Game over. Your secret number was:  77\n"
          ]
        }
      ]
    }
  ]
}