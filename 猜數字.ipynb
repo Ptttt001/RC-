{
  "nbformat": 4,
  "nbformat_minor": 0,
  "metadata": {
    "colab": {
      "provenance": [],
      "authorship_tag": "ABX9TyMgXJEOcOObm2uEklTkU+Wd",
      "include_colab_link": true
    },
    "kernelspec": {
      "name": "python3",
      "display_name": "Python 3"
    },
    "language_info": {
      "name": "python"
    }
  },
  "cells": [
    {
      "cell_type": "markdown",
      "metadata": {
        "id": "view-in-github",
        "colab_type": "text"
      },
      "source": [
        "<a href=\"https://colab.research.google.com/github/Ptttt001/RC-material/blob/main/%E7%8C%9C%E6%95%B8%E5%AD%97.ipynb\" target=\"_parent\"><img src=\"https://colab.research.google.com/assets/colab-badge.svg\" alt=\"Open In Colab\"/></a>"
      ]
    },
    {
      "cell_type": "markdown",
      "source": [
        "#**實作:猜數字**"
      ],
      "metadata": {
        "id": "QdhZFNJdfhAh"
      }
    },
    {
      "cell_type": "code",
      "source": [
        "print(\"Please think of a number between 0 and 100!\")\n",
        "min=0\n",
        "i=50\n",
        "max=100\n",
        "while 1:#無限迴圈\n",
        "    print(\"Is your secret number\",i,\"?\")\n",
        "    print(\"Enter 'h' to indicate the guess is too high. Enter 'l' to indicate the guess is too low. Enter 'c' to indicate I guessed correctly.\")\n",
        "    x=str(input())\n",
        "    if x==\"c\":#數字正確\n",
        "        print(\"Game over. Your secret number was: \",i)\n",
        "        break;#停止迴圈\n",
        "    elif x==\"l\":#電腦猜的數字太小\n",
        "        min=i#變更最小值\n",
        "        i=(i+max)//2\n",
        "    elif x==\"h\":#電腦猜的數字太大\n",
        "        max=i#變更最大值\n",
        "        i=(i+min)//2\n",
        "    else:\n",
        "      print(\"你按錯了\")"
      ],
      "metadata": {
        "id": "V3ngL20nR9UY"
      },
      "execution_count": null,
      "outputs": []
    },
    {
      "cell_type": "markdown",
      "source": [
        "#**思考時間:**\n",
        "##Q1:數字是多少時，電腦會需要猜最多次呢?\n",
        "##Q2:數字是多少時，電腦會需要猜最少次呢?"
      ],
      "metadata": {
        "id": "ABA0Q7fWeJbS"
      }
    },
    {
      "cell_type": "markdown",
      "source": [
        "##**還有時間嗎?**\n",
        "####來寫幾A幾B吧!"
      ],
      "metadata": {
        "id": "e9aEb9S7exQJ"
      }
    },
    {
      "cell_type": "code",
      "execution_count": null,
      "metadata": {
        "id": "yVTMgbm8_pgo"
      },
      "outputs": [],
      "source": [
        "import random\n",
        "\n",
        "def generate_random_number(length):\n",
        "    return ''.join(random.sample('0123456789', length))\n",
        "\n",
        "def compare_numbers(secret_number, guess):\n",
        "    a = 0  # Number of exact matches\n",
        "    b = 0  # Number of digit matches\n",
        "\n",
        "    for i in range(len(secret_number)):\n",
        "        if secret_number[i] == guess[i]:\n",
        "            a += 1\n",
        "        elif secret_number[i] in guess:\n",
        "            b += 1\n",
        "\n",
        "    return a, b\n",
        "\n",
        "def main():\n",
        "    length = 4  # You can change this to adjust the length of the number\n",
        "    secret_number = generate_random_number(length)\n",
        "    attempts = 0\n",
        "\n",
        "    print(\"Welcome to the 猜數字 (Guess the Number) game!\")\n",
        "    print(f\"Try to guess the {length}-digit number.\")\n",
        "\n",
        "    while True:\n",
        "        guess = input(\"Enter your guess: \")\n",
        "        attempts += 1\n",
        "\n",
        "        if len(guess) != length or not guess.isdigit():\n",
        "            print(\"Please enter a valid\", length, \"-digit number.\")\n",
        "            continue\n",
        "\n",
        "        a, b = compare_numbers(secret_number, guess)\n",
        "\n",
        "        print(f\"{a}A{b}B\")\n",
        "\n",
        "        if a == length:\n",
        "            print(\"Congratulations! You guessed the number\", secret_number, \"in\", attempts, \"attempts.\")\n",
        "            break\n",
        "\n",
        "if __name__ == \"__main__\":\n",
        "    main()"
      ]
    }
  ]
}